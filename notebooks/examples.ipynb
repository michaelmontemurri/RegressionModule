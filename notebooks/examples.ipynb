{
 "cells": [
  {
   "cell_type": "markdown",
   "metadata": {},
   "source": [
    "# OLS_GLS_Ridge_Usage\n",
    "\n",
    "This file provides examples and documentation for the key methods implemented in the `OLS`, `GLS`, and `Ridge` regression models. The examples illustrate how to use these methods, including fitting models, making predictions, and obtaining variance estimates.\n",
    "\n",
    "---\n",
    "\n",
    "### `OLS.fit(X, y, use_gradient_descent=False, max_iter=1000, alpha=0.01, tol=1e-6)`\n",
    "Fits the Ordinary Least Squares (OLS) model to the dataset.\n",
    "\n",
    "#### Parameters:\n",
    "- **X** (`numpy.ndarray` or `pandas.DataFrame`): Feature matrix of shape `(n_samples, n_features)`.\n",
    "- **y** (`numpy.ndarray` or `pandas.Series`): Response vector of length `n_samples`.\n",
    "- **use_gradient_descent** (`bool`, optional): Whether to use gradient descent for optimization (default: False).\n",
    "- **max_iter** (`int`, optional): Maximum iterations for gradient descent (default: 1000).\n",
    "- **alpha** (`float`, optional): Learning rate for gradient descent (default: 0.01).\n",
    "- **tol** (`float`, optional): Convergence tolerance for gradient descent (default: 1e-6).\n",
    "\n",
    "#### Returns:\n",
    "None. Fits the model and stores coefficients in `self.beta`.\n",
    "\n",
    "---\n",
    "\n",
    "### `OLS.predict(X)`\n",
    "Predicts response values using the fitted OLS model.\n",
    "\n",
    "#### Parameters:\n",
    "- **X** (`numpy.ndarray` or `pandas.DataFrame`): Feature matrix of shape `(n_samples, n_features)`.\n",
    "\n",
    "#### Returns:\n",
    "- **predictions** (`numpy.ndarray`): Predicted values for each sample.\n",
    "\n",
    "---\n",
    "\n",
    "### `OLS.estimate_variance(X, y)`\n",
    "Estimates the variance-covariance matrix of the coefficients.\n",
    "\n",
    "#### Parameters:\n",
    "- **X** (`numpy.ndarray` or `pandas.DataFrame`): Feature matrix of shape `(n_samples, n_features)`.\n",
    "- **y** (`numpy.ndarray` or `pandas.Series`): Response vector of length `n_samples`.\n",
    "\n",
    "#### Returns:\n",
    "- **variance_matrix** (`numpy.ndarray`): Variance-covariance matrix of the coefficients.\n",
    "\n",
    "---\n",
    "\n",
    "### `GLS.fit(X, y, sigma)`\n",
    "Fits the Generalized Least Squares (GLS) model to the dataset.\n",
    "\n",
    "#### Parameters:\n",
    "- **X** (`numpy.ndarray` or `pandas.DataFrame`): Feature matrix of shape `(n_samples, n_features)`.\n",
    "- **y** (`numpy.ndarray` or `pandas.Series`): Response vector of length `n_samples`.\n",
    "- **sigma** (`numpy.ndarray`): Covariance matrix of the errors.\n",
    "\n",
    "#### Returns:\n",
    "None. Fits the model and stores coefficients in `self.beta`.\n",
    "\n",
    "---\n",
    "\n",
    "### `Ridge.fit(X, y)`\n",
    "Fits the Ridge regression model to the dataset.\n",
    "\n",
    "#### Parameters:\n",
    "- **X** (`numpy.ndarray` or `pandas.DataFrame`): Feature matrix of shape `(n_samples, n_features)`.\n",
    "- **y** (`numpy.ndarray` or `pandas.Series`): Response vector of length `n_samples`.\n",
    "\n",
    "#### Returns:\n",
    "None. Fits the model and stores coefficients in `self.beta`.\n",
    "\n",
    "---\n",
    "\n",
    "### `Ridge.estimate_variance(X, y)`\n",
    "Estimates the variance-covariance matrix of the coefficients.\n",
    "\n",
    "#### Parameters:\n",
    "- **X** (`numpy.ndarray` or `pandas.DataFrame`): Feature matrix of shape `(n_samples, n_features)`.\n",
    "- **y** (`numpy.ndarray` or `pandas.Series`): Response vector of length `n_samples`.\n",
    "\n",
    "#### Returns:\n",
    "- **variance_matrix** (`numpy.ndarray`): Variance-covariance matrix of the coefficients.\n",
    "\n",
    "---\n",
    "\n",
    "## Example\n",
    "\n",
    "Below is an example demonstrating the use of `OLS`, `GLS`, and `Ridge` regression models using synthetic datasets.\n"
   ]
  },
  {
   "cell_type": "code",
   "execution_count": 1,
   "metadata": {},
   "outputs": [
    {
     "name": "stderr",
     "output_type": "stream",
     "text": [
      "/Users/michaelmontemurri/Downloads/Classes/MATH 533 - Regression and ANOVA/regression_module/venv/lib/python3.12/site-packages/IPython/core/magics/osm.py:417: UserWarning: This is now an optional IPython functionality, setting dhist requires you to install the `pickleshare` library.\n",
      "  self.shell.db['dhist'] = compress_dhist(dhist)[-100:]\n"
     ]
    },
    {
     "name": "stdout",
     "output_type": "stream",
     "text": [
      "/Users/michaelmontemurri/Downloads/Classes/MATH 533 - Regression and ANOVA/regression_module\n"
     ]
    }
   ],
   "source": [
    "%cd ..\n",
    "from stats_module.models import *\n",
    "import numpy as np\n",
    "import time\n",
    "\n",
    "# Generate synthetic data\n",
    "np.random.seed(42)\n",
    "n_samples, n_features = 100, 5\n",
    "X = np.random.randn(n_samples, n_features)\n",
    "true_beta = np.random.randn(n_features)\n",
    "y = X @ true_beta + np.random.normal(0, 0.5, n_samples)"
   ]
  },
  {
   "cell_type": "code",
   "execution_count": 2,
   "metadata": {},
   "outputs": [
    {
     "name": "stdout",
     "output_type": "stream",
     "text": [
      "OLS Coefficients: [-0.04722303  0.91280318  1.88309814 -1.35978426  0.5945449  -0.53310417]\n",
      "OLS Variance Matrix:\n",
      " [[ 2.56521028e-01  3.83891918e-02 -1.70855572e-02  2.33032373e-02\n",
      "   2.53067798e-02]\n",
      " [ 3.83891918e-02  2.11354611e-01 -2.56234838e-02 -6.56783237e-03\n",
      "  -5.44148650e-03]\n",
      " [-1.70855572e-02 -2.56234838e-02  2.05558025e-01  5.90663881e-04\n",
      "  -9.11745231e-03]\n",
      " [ 2.33032373e-02 -6.56783237e-03  5.90663881e-04  2.12604044e-01\n",
      "   2.20167249e-05]\n",
      " [ 2.53067798e-02 -5.44148650e-03 -9.11745231e-03  2.20167249e-05\n",
      "   1.74128093e-01]]\n",
      "OLS Summary:\n",
      " {'coefficients': array([-0.04722303,  0.91280318,  1.88309814, -1.35978426,  0.5945449 ,\n",
      "       -0.53310417]), 'r_squared': np.float64(0.966360359561293)}\n"
     ]
    }
   ],
   "source": [
    "# OLS Example\n",
    "ols_model = OLS(include_intercept=True)\n",
    "ols_model.fit(X, y)\n",
    "ols_predictions = ols_model.predict(X)\n",
    "ols_variance = ols_model.estimate_variance(X, y)\n",
    "print(\"OLS Coefficients:\", ols_model.beta)\n",
    "print(\"OLS Variance Matrix:\\n\", ols_variance)\n",
    "\n",
    "#get summary\n",
    "ols_summary = summary(ols_model, X, y)\n",
    "print(\"OLS Summary:\\n\", ols_summary)"
   ]
  },
  {
   "cell_type": "code",
   "execution_count": 3,
   "metadata": {},
   "outputs": [
    {
     "name": "stdout",
     "output_type": "stream",
     "text": [
      "Converged after 50 iterations\n",
      "GD Coefficients: [-0.04689984  0.91160579  1.88231535 -1.35919347  0.59415345 -0.53332083]\n",
      "GD Summary:\n",
      " {'coefficients': array([-0.04689984,  0.91160579,  1.88231535, -1.35919347,  0.59415345,\n",
      "       -0.53332083]), 'r_squared': np.float64(0.9663600385784428)}\n"
     ]
    }
   ],
   "source": [
    "# Now using the gradient descent method\n",
    "gd_model = OLS(include_intercept=True)\n",
    "gd_model.fit(X, y, use_gradient_descent=True, max_iter=1000, alpha=0.1, tol=1e-6)\n",
    "gd_predictions = gd_model.predict(X)\n",
    "gd_variance = gd_model.estimate_variance(X, y)\n",
    "print(\"GD Coefficients:\", gd_model.beta)\n",
    "\n",
    "gd_summary = summary(gd_model, X, y)\n",
    "print(\"GD Summary:\\n\", gd_summary)\n"
   ]
  },
  {
   "cell_type": "code",
   "execution_count": 4,
   "metadata": {},
   "outputs": [
    {
     "name": "stdout",
     "output_type": "stream",
     "text": [
      "GLS Coefficients: [-0.07718822  0.90604494  1.8879837  -1.35086407  0.59440973 -0.51890699]\n",
      "GLS Summary:\n",
      " {'coefficients': array([-0.07718822,  0.90604494,  1.8879837 , -1.35086407,  0.59440973,\n",
      "       -0.51890699]), 'r_squared': np.float64(0.9661133093962327)}\n"
     ]
    }
   ],
   "source": [
    "# GLS Example\n",
    "sigma = np.diag(np.random.uniform(0.5, 1.5, size=n_samples))\n",
    "gls_model = GLS(include_intercept=True)\n",
    "gls_model.fit(X, y, sigma)\n",
    "gls_predictions = gls_model.predict(X)\n",
    "print(\"GLS Coefficients:\", gls_model.beta)\n",
    "\n",
    "gls_summary = summary(gls_model, X, y)\n",
    "print(\"GLS Summary:\\n\", gls_summary)"
   ]
  },
  {
   "cell_type": "code",
   "execution_count": 36,
   "metadata": {},
   "outputs": [
    {
     "name": "stdout",
     "output_type": "stream",
     "text": [
      "GLS Coefficients: [-0.04722303  0.91280318  1.88309814 -1.35978426  0.5945449  -0.53310417]\n",
      "OLS Coefficients: [-0.04722303  0.91280318  1.88309814 -1.35978426  0.5945449  -0.53310417]\n"
     ]
    }
   ],
   "source": [
    "# We can see that this reduces to OLS when sigma is the identity matrix\n",
    "gls_model = GLS(include_intercept=True)\n",
    "gls_model.fit(X, y, np.eye(n_samples))\n",
    "gls_predictions = gls_model.predict(X)\n",
    "gls_variance = gls_model.estimate_variance(X, y)\n",
    "print(\"GLS Coefficients:\", gls_model.beta)\n",
    "print(\"OLS Coefficients:\", ols_model.beta)"
   ]
  },
  {
   "cell_type": "code",
   "execution_count": 5,
   "metadata": {},
   "outputs": [
    {
     "name": "stdout",
     "output_type": "stream",
     "text": [
      "Warning: Variance estimator assumes homoskedasticity.\n",
      "Ridge Coefficients: [-0.04342327  0.89623975  1.85912983 -1.34226342  0.58723277 -0.52952223]\n",
      "Ridge Variance Matrix:\n",
      " [[ 2.50812226e-01  3.67571136e-02 -1.62575127e-02  2.23438619e-02\n",
      "   2.43379561e-02]\n",
      " [ 3.67571136e-02  2.07622273e-01 -2.46116995e-02 -6.40530344e-03\n",
      "  -5.37450180e-03]\n",
      " [-1.62575127e-02 -2.46116995e-02  2.02155997e-01  5.90937969e-04\n",
      "  -8.78351079e-03]\n",
      " [ 2.23438619e-02 -6.40530344e-03  5.90937969e-04  2.08982812e-01\n",
      "  -3.97043760e-05]\n",
      " [ 2.43379561e-02 -5.37450180e-03 -8.78351079e-03 -3.97043760e-05\n",
      "   1.71806002e-01]]\n",
      "Ridge Summary:\n",
      " {'coefficients': array([-0.04342327,  0.89623975,  1.85912983, -1.34226342,  0.58723277,\n",
      "       -0.52952223]), 'r_squared': np.float64(0.9661983879234871)}\n"
     ]
    }
   ],
   "source": [
    "# Ridge Example\n",
    "ridge_model = Ridge(alpha=1.0, include_intercept=True)\n",
    "ridge_model.fit(X, y)\n",
    "ridge_variance = ridge_model.estimate_variance(X, y)\n",
    "print(\"Ridge Coefficients:\", ridge_model.beta)\n",
    "print(\"Ridge Variance Matrix:\\n\", ridge_variance)\n",
    "\n",
    "ridge_summary = summary(ridge_model, X, y)\n",
    "print(\"Ridge Summary:\\n\", ridge_summary)    "
   ]
  },
  {
   "cell_type": "code",
   "execution_count": 7,
   "metadata": {},
   "outputs": [
    {
     "name": "stdout",
     "output_type": "stream",
     "text": [
      "Warning: Matrix is ill-conditioned. Consider using regularization.\n",
      "Warning: Variance estimator assumes homoskedasticity.\n",
      "OLS Summary:\n",
      " {'coefficients': array([ 1.75317729e+02,  3.65718240e+02,  7.17686008e+01, -3.16701664e+01,\n",
      "        8.98646144e+01, -6.41968422e+01,  1.75484346e+02, -5.08906726e+02,\n",
      "        5.92748682e+02, -3.08814944e+02,  4.35070140e+02,  1.40227641e+02,\n",
      "        8.26699575e+01,  1.87756437e+02, -9.30804950e+01,  1.19504647e+02,\n",
      "        2.34790859e+00,  3.95672908e+02,  4.27545777e+02,  4.04065942e+02,\n",
      "       -4.79964879e+02,  9.16089152e+01, -7.27242957e+01, -4.75517862e+02,\n",
      "        2.92611104e+02,  3.00020633e+02, -8.05900067e+01, -4.63692248e+01,\n",
      "        3.04410562e+02,  3.77915620e+02, -1.46382156e+02,  9.11856509e+01,\n",
      "        4.67522604e+02,  4.33828789e+02, -2.75983391e+02, -3.22005073e+02,\n",
      "       -4.81421728e+01, -2.14244296e+02, -3.74804369e+01, -1.44440909e+02,\n",
      "       -3.95523905e+02, -1.30052415e+02,  5.74178524e+01,  9.05244254e+01,\n",
      "        2.28494829e+02, -3.44127486e+02, -4.19928303e+02, -3.65537131e+02,\n",
      "        1.77633484e+02, -9.29046379e+01, -1.86735575e+02, -2.56576258e+02,\n",
      "        2.28483618e+02, -2.87316414e+01,  3.60210952e+02,  2.55171622e+02,\n",
      "       -1.03852553e+02,  1.22130374e+02,  2.51208940e+02, -6.56976499e+01,\n",
      "        3.14024687e+01,  1.00085430e+02, -5.76354348e+02, -2.86101480e+00,\n",
      "        9.29213869e+00, -9.42876398e+01, -2.52917671e+02, -2.11954074e+01,\n",
      "       -1.52791826e+01,  3.48951788e+02, -1.12713597e+02,  1.57596060e+02,\n",
      "        1.77432597e+01,  5.27681451e+01, -3.77281713e+02,  2.24657454e+02,\n",
      "       -4.50032663e+01,  3.30827653e+01,  5.61522562e+00, -1.68424173e+02,\n",
      "       -4.68100030e+01,  2.65015770e+02,  1.35354805e+02,  5.95098517e+01,\n",
      "       -2.59228655e+02,  9.87736987e+01,  5.80033381e+01, -6.71992519e+01,\n",
      "       -2.11244335e+01, -3.52036220e+01,  4.95411811e+02,  2.81203413e+02,\n",
      "        1.59844796e+02,  2.84697493e+02,  1.09565146e+02,  1.19095995e+02,\n",
      "       -6.12536588e+01,  5.50510495e+01, -1.46396663e+02,  1.25841613e+02,\n",
      "       -2.21288728e+02,  3.80631563e+02, -3.26731098e+01,  3.07240638e+01,\n",
      "        7.23281090e+01, -3.90355121e+01, -8.66995489e+01, -1.12876689e+02,\n",
      "        7.34794519e+01, -4.41218309e+01, -1.14585148e+02, -1.10232541e+01,\n",
      "       -6.16771675e-01,  5.24280490e+01,  2.40965287e+01, -4.62508416e+01,\n",
      "        3.93677272e-01,  1.70482559e+01,  7.00624485e+01,  6.33591030e+01,\n",
      "       -3.59140121e+01,  2.26754723e+01,  4.44878340e+01,  6.18842393e+01,\n",
      "        4.09437531e+01,  8.23316796e+00, -8.41311917e+01, -8.11105725e+01,\n",
      "        5.41647291e+00,  6.53303590e+01, -1.43538037e+01,  4.42388169e+00,\n",
      "       -8.83040450e+01, -3.65526983e+01,  5.40306344e+00,  1.45740217e+01,\n",
      "       -2.16779686e+01, -8.49063918e+01,  2.31493560e+01, -8.06181239e+00,\n",
      "       -4.13428940e+01,  4.04336421e+01, -4.23255377e+01, -3.89978057e+01,\n",
      "        9.62820680e+01, -4.04556578e+01, -2.80370393e+01,  9.14904628e+01,\n",
      "        4.37058985e+01,  1.52148621e+01, -6.62525236e+01, -3.84996831e+01,\n",
      "        7.30309564e+01,  2.73351243e+01, -5.31473636e+01,  5.19901993e+01,\n",
      "        6.82107171e+01, -3.98900107e+01, -2.74165166e+01,  3.93567734e+01,\n",
      "       -1.53151736e+02, -1.24998500e+01, -1.18815772e+01,  5.31295964e+00,\n",
      "       -3.30529340e+01,  4.84812107e+01,  3.57448903e+01, -9.76539662e+00,\n",
      "        1.50887638e+01,  3.34277521e+01,  2.23134872e+01, -1.23217376e+01,\n",
      "        6.26104992e+00,  2.75261712e+01, -3.27654106e+01,  9.01762748e+00,\n",
      "       -5.21863620e+00,  1.94493928e+01,  2.15996327e+01,  2.22501108e+01,\n",
      "        4.23486769e+01, -3.31678936e+01, -4.80605862e+01, -6.38623372e+01,\n",
      "        8.78275463e+00,  3.08023024e+01,  6.85626652e+01,  4.29992510e+01,\n",
      "        1.40667610e+00, -3.96971050e+00,  3.36247510e+01,  1.78725876e+01,\n",
      "        2.80744087e+01,  1.87827487e+01,  1.45691879e+01,  1.97730815e+01,\n",
      "       -2.17870631e+01,  7.39851185e+00,  8.13331903e+00, -5.99536821e+01,\n",
      "        1.33666597e+01]), 'r_squared': np.float64(-146.45443237166737)}\n",
      "Ridge Summary:\n",
      " {'coefficients': array([ 0.86864543, -0.26141352,  0.63636597, -0.0657858 ,  0.59077991,\n",
      "       -0.16537395,  0.80810251, -0.7776861 , -0.45356645, -0.29700988,\n",
      "        0.0655826 , -0.72524836,  0.05217845,  0.57675106, -0.74185718,\n",
      "        0.92855883,  0.08033896, -1.33746861, -0.08412375, -0.12803597,\n",
      "       -0.07143411, -0.42900178,  1.26148549,  0.41893015,  0.88326444,\n",
      "       -0.46979142, -0.52276082,  0.02813107,  0.35906676,  0.09682215,\n",
      "       -0.55334695, -0.5198758 , -0.77833633, -0.63914836, -0.13587555,\n",
      "        1.43317949,  0.19065987,  0.69604385,  0.30902296, -1.04128421,\n",
      "        0.67862298,  1.59658194,  0.03110631,  0.607355  , -0.79818517,\n",
      "       -0.17812134,  0.03634217, -0.77171626, -0.71160252, -0.69140931,\n",
      "       -1.22560187, -0.48877811, -0.01865259,  0.31466503,  0.19060566,\n",
      "        0.27265187,  0.10085252,  0.79665348,  1.43243266, -0.90108397,\n",
      "        0.41001835,  0.1365774 ,  1.70877496, -0.35577352,  0.92135   ,\n",
      "        0.96331959, -0.1850833 , -0.75916492, -0.67453363,  1.96698794,\n",
      "       -0.92648809, -1.09237242, -1.07742482, -0.55053075,  0.25110443,\n",
      "        0.97120149,  0.29158103, -0.57498143,  0.41699657, -0.62478534,\n",
      "        0.17593768,  0.55783172,  0.29657465, -0.56801494, -0.63831297,\n",
      "       -0.6889878 , -0.03129901, -0.85980393, -0.27025887,  0.7413172 ,\n",
      "        0.24885463,  0.57619538,  0.69758421, -0.38696564, -0.31895569,\n",
      "       -0.61345986,  0.29717051,  0.45442103,  0.08846943, -0.06656366,\n",
      "        0.67885004,  1.32767169, -1.31492279,  1.12391725,  0.11761604,\n",
      "        0.97295513,  1.90288787,  1.45052619, -0.07152993,  1.32072241,\n",
      "       -1.66863741,  0.69570744,  0.01090426, -0.3727598 , -0.5722966 ,\n",
      "       -0.93354247, -0.41704741, -1.27921209, -0.48907038, -0.22579175,\n",
      "        0.15784439, -0.45927125, -1.27198195, -0.86911241, -0.80410148,\n",
      "       -0.48351983,  0.1825797 , -0.70418589,  1.01723266, -0.69376185,\n",
      "       -0.16908959,  1.19237435,  0.47797536,  0.49717804,  0.12978171,\n",
      "       -0.24821707, -0.86898209, -0.28407457,  0.64753646, -0.3923717 ,\n",
      "        0.13094715,  0.94762793, -0.3246438 ,  0.83197959,  0.91021584,\n",
      "       -0.57046423, -1.35948119,  0.18857569,  0.14000033, -0.65328367,\n",
      "        0.50444398, -0.78323657,  0.47274157, -1.38148615,  0.40837035,\n",
      "       -0.398425  , -1.31161524, -0.92443964,  0.28734848,  0.26057785,\n",
      "        0.1116117 , -0.36635397,  0.46714262, -0.58952765, -0.09545897,\n",
      "        0.05168834, -0.17065018,  0.90843127, -0.05127519,  0.30256412,\n",
      "        1.12138855,  0.30896552,  0.06722628, -1.0418743 ,  0.16734978,\n",
      "        0.82018374,  0.04217304, -0.10571664,  0.0366518 ,  0.15478921,\n",
      "        0.20237684, -0.01566993, -0.35598758, -0.21676917,  0.40679582,\n",
      "       -0.20589087, -0.09937152,  0.12799215, -0.69988188, -0.40215904,\n",
      "       -0.17329718,  0.08603186, -0.15043161, -0.82695634,  0.43464695,\n",
      "        0.12271497,  0.13127012, -0.63030225, -0.52649123, -0.24554183,\n",
      "       -1.2544824 ]), 'r_squared': np.float64(0.9999479573090073)}\n"
     ]
    }
   ],
   "source": [
    "# Now lets generate data with p > n and see how Ridge performs compared to OLS\n",
    "\n",
    "# We can see that the variance estimates of the OLS are extremely large, indicating the solution is unstable\n",
    "# Ridge on the other hand, provides a more stable solution.\n",
    "\n",
    "n_samples, n_features = 100, 200\n",
    "X = np.random.randn(n_samples, n_features)\n",
    "true_beta = np.random.randn(n_features)\n",
    "y = X @ true_beta + np.random.normal(0, 0.5, n_samples)\n",
    "\n",
    "ols_model = OLS(include_intercept=True)\n",
    "ols_model.fit(X, y)\n",
    "ols_predictions = ols_model.predict(X)\n",
    "ols_variance = ols_model.estimate_variance(X, y)\n",
    "print(\"OLS Variance Diagonal:\\n\", np.diag(ols_variance))\n",
    "\n",
    "ridge_model = Ridge(alpha=1.0, include_intercept=True)\n",
    "ridge_model.fit(X, y)\n",
    "ridge_variance = ridge_model.estimate_variance(X, y)\n",
    "print(\"Ridge Variance Diagonal:\\n\", np.diag(ridge_variance))\n",
    "\n",
    "# Compare summaries\n",
    "ols_summary = summary(ols_model, X, y)\n",
    "ridge_summary = summary(ridge_model, X, y)\n"
   ]
  }
 ],
 "metadata": {
  "kernelspec": {
   "display_name": "venv",
   "language": "python",
   "name": "python3"
  },
  "language_info": {
   "codemirror_mode": {
    "name": "ipython",
    "version": 3
   },
   "file_extension": ".py",
   "mimetype": "text/x-python",
   "name": "python",
   "nbconvert_exporter": "python",
   "pygments_lexer": "ipython3",
   "version": "3.12.4"
  }
 },
 "nbformat": 4,
 "nbformat_minor": 2
}
