{
 "cells": [
  {
   "cell_type": "code",
   "execution_count": 1,
   "metadata": {},
   "outputs": [
    {
     "name": "stderr",
     "output_type": "stream",
     "text": [
      "/Users/michaelmontemurri/Downloads/Classes/MATH 533 - Regression and ANOVA/regression_module/venv/lib/python3.12/site-packages/IPython/core/magics/osm.py:417: UserWarning: This is now an optional IPython functionality, setting dhist requires you to install the `pickleshare` library.\n",
      "  self.shell.db['dhist'] = compress_dhist(dhist)[-100:]\n"
     ]
    },
    {
     "name": "stdout",
     "output_type": "stream",
     "text": [
      "/Users/michaelmontemurri/Downloads/Classes/MATH 533 - Regression and ANOVA/regression_module\n"
     ]
    }
   ],
   "source": [
    "%cd ..\n",
    "from stats_module.models import *"
   ]
  },
  {
   "cell_type": "code",
   "execution_count": 2,
   "metadata": {},
   "outputs": [
    {
     "name": "stdout",
     "output_type": "stream",
     "text": [
      "{'coefficients': array([-0.54763885,  1.17161131,  2.98123262,  3.23991843]), 'r_squared': np.float64(0.9740747305712154)}\n"
     ]
    }
   ],
   "source": [
    "#generate a random dataset\n",
    "np.random.seed(0)\n",
    "n = 5\n",
    "p = 3\n",
    "X = np.random.randn(n, p)\n",
    "#generate y linearly dependent on X\n",
    "y = X @ np.array([1, 2, 3]) + np.random.randn(n)\n",
    "\n",
    "\n",
    "#fit an OLS estimator\n",
    "model = OLS(include_intercept=True)\n",
    "model.fit(X, y)\n",
    "\n",
    "summary = model.summary(X,y)\n",
    "print(summary)\n"
   ]
  },
  {
   "cell_type": "code",
   "execution_count": 3,
   "metadata": {},
   "outputs": [
    {
     "name": "stdout",
     "output_type": "stream",
     "text": [
      "[1.21054124]\n",
      "1.6494544608645925\n",
      "[0.99637831 0.9947037  0.81144046 0.86359496 0.33388257]\n"
     ]
    }
   ],
   "source": [
    "#generate new point to predict\n",
    "X_new = np.random.randn(1, p)\n",
    "y_pred = model.predict(X_new)\n",
    "\n",
    "print(y_pred)\n",
    "\n",
    "#estimate the variance of the estimator\n",
    "variance = model.estimate_variance(X, y)\n",
    "print(variance)\n",
    "\n",
    "#get the leverages\n",
    "leverages = model.leverages(X)\n",
    "print(leverages)\n",
    "\n"
   ]
  },
  {
   "cell_type": "code",
   "execution_count": 4,
   "metadata": {},
   "outputs": [
    {
     "name": "stdout",
     "output_type": "stream",
     "text": [
      "{'coefficients': array([-0.44517291,  1.12887341,  2.96496496,  3.19575659]), 'r_squared': np.float64(0.973748094237896)}\n"
     ]
    }
   ],
   "source": [
    "#now lets test the GLS estimator with the same data, but now passing sigma as a parameter\n",
    "weights = np.linspace(1, 2, n)  # Linearly increasing weights\n",
    "sigma = np.diag(weights)        # Diagonal weight matrix\n",
    "model = GLS(include_intercept=True)\n",
    "model.fit(X, y, sigma=sigma)\n",
    "\n",
    "summary = model.summary(X,y)\n",
    "print(summary)  \n"
   ]
  },
  {
   "cell_type": "code",
   "execution_count": 5,
   "metadata": {},
   "outputs": [
    {
     "name": "stdout",
     "output_type": "stream",
     "text": [
      "Time with gradient descent:  35.38571619987488\n",
      "Time without gradient descent:  32.122146129608154\n"
     ]
    }
   ],
   "source": [
    "#lets test the OLS with gradient descent method when we have extremely large datasets and compare the time\n",
    "n = 1000\n",
    "p = 10000\n",
    "X = np.random.randn(n, p)\n",
    "y = X @ np.random.randn(p) + np.random.randn(n)\n",
    "\n",
    "#time the fit method with and without gradient descent\n",
    "import time\n",
    "\n",
    "# Time the fit method with gradient descent\n",
    "time1 = time.time()\n",
    "model = OLS(include_intercept=True)\n",
    "model.fit(X, y, use_gradient_descent=True)\n",
    "print(\"Time with gradient descent: \", time.time() - time1)\n",
    "\n",
    "# Time the fit method without gradient descent\n",
    "time2 = time.time()\n",
    "model = OLS(include_intercept=True)\n",
    "model.fit(X, y, use_gradient_descent=False)\n",
    "print(\"Time without gradient descent: \", time.time() - time2)\n"
   ]
  },
  {
   "cell_type": "code",
   "execution_count": null,
   "metadata": {},
   "outputs": [],
   "source": [
    "\n"
   ]
  },
  {
   "cell_type": "code",
   "execution_count": 6,
   "metadata": {},
   "outputs": [
    {
     "name": "stdout",
     "output_type": "stream",
     "text": [
      "{'coefficients': array([-4.82920043e+05, -1.62898321e+05, -2.72088518e+05, ...,\n",
      "        2.10444013e+03, -4.61056151e+02,  1.24557654e+03]), 'r_squared': np.float64(-29315.24228369904)}\n"
     ]
    }
   ],
   "source": [
    "\n",
    "summary = model.summary(X,y)\n",
    "print(summary)\n"
   ]
  }
 ],
 "metadata": {
  "kernelspec": {
   "display_name": "venv",
   "language": "python",
   "name": "python3"
  },
  "language_info": {
   "codemirror_mode": {
    "name": "ipython",
    "version": 3
   },
   "file_extension": ".py",
   "mimetype": "text/x-python",
   "name": "python",
   "nbconvert_exporter": "python",
   "pygments_lexer": "ipython3",
   "version": "3.12.4"
  }
 },
 "nbformat": 4,
 "nbformat_minor": 2
}
