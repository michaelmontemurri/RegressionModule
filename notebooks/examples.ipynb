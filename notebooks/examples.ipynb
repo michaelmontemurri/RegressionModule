{
 "cells": [
  {
   "cell_type": "code",
   "execution_count": 17,
   "metadata": {},
   "outputs": [
    {
     "name": "stdout",
     "output_type": "stream",
     "text": [
      "/Users/michaelmontemurri/Downloads\n"
     ]
    },
    {
     "name": "stderr",
     "output_type": "stream",
     "text": [
      "/Users/michaelmontemurri/Downloads/Classes/MATH 533 - Regression and ANOVA/regression_module/venv/lib/python3.12/site-packages/IPython/core/magics/osm.py:417: UserWarning: This is now an optional IPython functionality, setting dhist requires you to install the `pickleshare` library.\n",
      "  self.shell.db['dhist'] = compress_dhist(dhist)[-100:]\n"
     ]
    }
   ],
   "source": [
    "%cd ..\n",
    "from stats_module.models import *"
   ]
  },
  {
   "cell_type": "code",
   "execution_count": 22,
   "metadata": {},
   "outputs": [
    {
     "name": "stdout",
     "output_type": "stream",
     "text": [
      "{'coefficients': array([-0.54763885,  1.17161131,  2.98123262,  3.23991843]), 'r_squared': np.float64(0.9740747305712154)}\n"
     ]
    }
   ],
   "source": [
    "#generate a random dataset\n",
    "np.random.seed(0)\n",
    "n = 5\n",
    "p = 3\n",
    "X = np.random.randn(n, p)\n",
    "#generate y linearly dependent on X\n",
    "y = X @ np.array([1, 2, 3]) + np.random.randn(n)\n",
    "\n",
    "\n",
    "#fit an OLS estimator\n",
    "model = OLS(include_intercept=True)\n",
    "model.fit(X, y)\n",
    "\n",
    "summary = model.summary(X,y)\n",
    "print(summary)\n"
   ]
  },
  {
   "cell_type": "code",
   "execution_count": 24,
   "metadata": {},
   "outputs": [
    {
     "name": "stdout",
     "output_type": "stream",
     "text": [
      "[1.21054124]\n",
      "1.6494544608645925\n",
      "[0.99637831 0.9947037  0.81144046 0.86359496 0.33388257]\n"
     ]
    }
   ],
   "source": [
    "#generate new point to predict\n",
    "X_new = np.random.randn(1, p)\n",
    "y_pred = model.predict(X_new)\n",
    "\n",
    "print(y_pred)\n",
    "\n",
    "#estimate the variance of the estimator\n",
    "variance = model.estimate_variance(X, y)\n",
    "print(variance)\n",
    "\n",
    "#get the leverages\n",
    "leverages = model.leverages(X)\n",
    "print(leverages)\n",
    "\n"
   ]
  },
  {
   "cell_type": "code",
   "execution_count": 26,
   "metadata": {},
   "outputs": [
    {
     "name": "stdout",
     "output_type": "stream",
     "text": [
      "{'coefficients': array([-0.44517291,  1.12887341,  2.96496496,  3.19575659]), 'r_squared': np.float64(0.973748094237896)}\n"
     ]
    }
   ],
   "source": [
    "#now lets test the GLS estimator with the same data, but now passing sigma as a parameter\n",
    "weights = np.linspace(1, 2, n)  # Linearly increasing weights\n",
    "sigma = np.diag(weights)        # Diagonal weight matrix\n",
    "model = GLS(include_intercept=True)\n",
    "model.fit(X, y, sigma=sigma)\n",
    "\n",
    "summary = model.summary(X,y)\n",
    "print(summary)  "
   ]
  }
 ],
 "metadata": {
  "kernelspec": {
   "display_name": "venv",
   "language": "python",
   "name": "python3"
  },
  "language_info": {
   "codemirror_mode": {
    "name": "ipython",
    "version": 3
   },
   "file_extension": ".py",
   "mimetype": "text/x-python",
   "name": "python",
   "nbconvert_exporter": "python",
   "pygments_lexer": "ipython3",
   "version": "3.12.4"
  }
 },
 "nbformat": 4,
 "nbformat_minor": 2
}
