{
 "cells": [
  {
   "cell_type": "markdown",
   "metadata": {},
   "source": []
  },
  {
   "cell_type": "code",
   "execution_count": 8,
   "metadata": {},
   "outputs": [],
   "source": [
    "import sys\n",
    "import numpy as np\n",
    "sys.path.append('..')\n",
    "from stats_module import OLS, LinearModelTester"
   ]
  },
  {
   "cell_type": "markdown",
   "metadata": {},
   "source": []
  },
  {
   "cell_type": "code",
   "execution_count": 9,
   "metadata": {},
   "outputs": [
    {
     "name": "stdout",
     "output_type": "stream",
     "text": [
      "{'coefficients': array([-0.41221599,  0.93623639,  2.38843176,  2.99360915]), 'r_squared': np.float64(0.9786838149519005)}\n"
     ]
    }
   ],
   "source": [
    "#generate a random dataset\n",
    "np.random.seed(0)\n",
    "n = 20\n",
    "p = 3\n",
    "X = np.random.randn(n, p)\n",
    "\n",
    "#generate y linearly dependent on X\n",
    "y = X @ np.array([1, 2, 3]) + np.random.randn(n)\n",
    "\n",
    "\n",
    "#fit an OLS estimator\n",
    "model = OLS(include_intercept=True)\n",
    "model.fit(X, y)\n",
    "\n",
    "summary = model.summary(X,y)\n",
    "print(summary)\n"
   ]
  },
  {
   "cell_type": "markdown",
   "metadata": {},
   "source": []
  },
  {
   "cell_type": "code",
   "execution_count": 10,
   "metadata": {},
   "outputs": [
    {
     "name": "stdout",
     "output_type": "stream",
     "text": [
      "Coefficient 0:\n",
      "  Estimated: -0.41221598820940447\n",
      "  Null value: 0\n",
      "  t-stat: -2.440361254246725\n",
      "  p-value: 0.026682263977906073\n",
      "  Reject null: True\n",
      "Coefficient 1:\n",
      "  Estimated: 0.9362363940133275\n",
      "  Null value: 1\n",
      "  t-stat: -0.46340266445100076\n",
      "  p-value: 0.6493169758975523\n",
      "  Reject null: False\n",
      "Coefficient 2:\n",
      "  Estimated: 2.388431760388897\n",
      "  Null value: 2\n",
      "  t-stat: 2.4816537047952063\n",
      "  p-value: 0.024563519243711474\n",
      "  Reject null: True\n",
      "Coefficient 3:\n",
      "  Estimated: 2.993609153939517\n",
      "  Null value: 3\n",
      "  t-stat: -0.03907216395463594\n",
      "  p-value: 0.9693162326966738\n",
      "  Reject null: False\n",
      "--------------------------------------------------------------------------------\n",
      "Coefficient 0:\n",
      "  Estimated: -0.41221598820940447\n",
      "  Confidence interval: [-0.7703018479599026, -0.0541301284589063]\n",
      "--------------------------------------------------------------------------------\n",
      "Coefficient 1:\n",
      "  Estimated: 0.9362363940133275\n",
      "  Confidence interval: [0.6445401725668481, 1.2279326154598067]\n",
      "--------------------------------------------------------------------------------\n",
      "Coefficient 2:\n",
      "  Estimated: 2.388431760388897\n",
      "  Confidence interval: [2.056621344760371, 2.7202421760174227]\n",
      "--------------------------------------------------------------------------------\n",
      "Coefficient 3:\n",
      "  Estimated: 2.993609153939517\n",
      "  Confidence interval: [2.6468664333199587, 3.340351874559075]\n",
      "--------------------------------------------------------------------------------\n",
      "F-stat: [[337.97183741]]\n",
      "p-value: [[8.17124146e-14]]\n",
      "Reject null: [[ True]]\n"
     ]
    }
   ],
   "source": [
    "#hypothesis testing on the coefficients\n",
    "\n",
    "tester = LinearModelTester(model)\n",
    "H0 = np.array([0, 1, 2, 3])\n",
    "alpha = 0.05\n",
    "\n",
    "# test H0 for each coefficient\n",
    "\n",
    "results = tester.hypothesis_t_test(X, y, H0, alpha)\n",
    "for result in results:\n",
    "    print(f\"Coefficient {result['coefficient']}:\")\n",
    "    print(f\"  Estimated: {result['beta_estimate']}\")\n",
    "    print(f\"  Null value: {result['null_value']}\")\n",
    "    print(f\"  t-stat: {result['t_stat']}\")\n",
    "    print(f\"  p-value: {result['p_value']}\")\n",
    "    print(f\"  Reject null: {result['reject_null']}\")\n",
    "\n",
    "# build confidence intervals for coefficients\n",
    "results = tester.confidence_interval(X, y, alpha)\n",
    "for result in results:\n",
    "    print('--'*40)\n",
    "    print(f\"Coefficient {result['coefficient']}:\")\n",
    "    print(f\"  Estimated: {result['beta_estimate']}\")\n",
    "    print(f\"  Confidence interval: [{result['confidence_lower']}, {result['confidence_upper']}]\")\n",
    "\n",
    "# hypothesis testing on linear combinations of coefficients\n",
    "R = np.array([\n",
    "    [0, 0, 1, 0],\n",
    "    [0, 1, 0, 1]\n",
    "])\n",
    "r = [0, 0] \n",
    "\n",
    "# H0 = Rbeta = r\n",
    "\n",
    "results = tester.hypothesis_F_test(X, y, R, r, alpha)\n",
    "print('--'*40)\n",
    "print(f\"F-stat: {results['F_stat']}\")\n",
    "print(f\"p-value: {results['p_value']}\")\n",
    "print(f\"Reject null: {results['reject_null']}\")\n",
    "\n"
   ]
  },
  {
   "cell_type": "code",
   "execution_count": 11,
   "metadata": {},
   "outputs": [],
   "source": [
    "#generate new point to predict\n",
    "x_new = np.random.randn(1, p)"
   ]
  },
  {
   "cell_type": "code",
   "execution_count": 13,
   "metadata": {},
   "outputs": [
    {
     "name": "stdout",
     "output_type": "stream",
     "text": [
      "--------------------------------------------------------------------------------\n",
      "Prediction interval for new point m[[-1.16514984  0.90082649  0.46566244]]:\n",
      "  Estimated m(x_new): 2.0425022606342313\n",
      "  Confidence interval: [1.4122759816245984, 2.672728539643864]\n",
      "--------------------------------------------------------------------------------\n",
      "Prediction interval for response of new point, y_new:\n",
      "  Confidence interval: [0.44011628066077035, 3.6448882406076923]\n"
     ]
    }
   ],
   "source": [
    "alpha = 0.05\n",
    "result = tester.prediction_interval_m(X, y, x_new, alpha)\n",
    "print('--'*40)\n",
    "print(f\"Prediction interval for new point m{x_new}:\")\n",
    "print(f\"  Estimated m(x_new): {result['mx_new_estimate']}\")\n",
    "print(f\"  Confidence interval: [{result['confidence_lower']}, {result['confidence_upper']}]\")\n",
    "\n",
    "result = tester.prediction_interval_y(X, y, x_new, alpha)\n",
    "print('--'*40)\n",
    "print(f\"Prediction interval for response of new point, y_new:\")\n",
    "print(f\"  Confidence interval: [{result['confidence_lower']}, {result['confidence_upper']}]\")\n"
   ]
  }
 ],
 "metadata": {
  "kernelspec": {
   "display_name": "venv",
   "language": "python",
   "name": "python3"
  },
  "language_info": {
   "codemirror_mode": {
    "name": "ipython",
    "version": 3
   },
   "file_extension": ".py",
   "mimetype": "text/x-python",
   "name": "python",
   "nbconvert_exporter": "python",
   "pygments_lexer": "ipython3",
   "version": "3.12.0"
  }
 },
 "nbformat": 4,
 "nbformat_minor": 2
}
