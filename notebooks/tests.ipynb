{
 "cells": [
  {
   "cell_type": "code",
   "execution_count": 4,
   "metadata": {},
   "outputs": [],
   "source": [
    "import sys\n",
    "import numpy as np\n",
    "sys.path.append('..')\n",
    "from stats_module import OLS, LinearModelTester"
   ]
  },
  {
   "cell_type": "code",
   "execution_count": 5,
   "metadata": {},
   "outputs": [
    {
     "name": "stdout",
     "output_type": "stream",
     "text": [
      "{'coefficients': array([-0.54763885,  1.17161131,  2.98123262,  3.23991843]), 'r_squared': np.float64(0.9740747305712154)}\n"
     ]
    }
   ],
   "source": [
    "#generate a random dataset\n",
    "np.random.seed(0)\n",
    "n = 5\n",
    "p = 3\n",
    "X = np.random.randn(n, p)\n",
    "\n",
    "#generate y linearly dependent on X\n",
    "y = X @ np.array([1, 2, 3]) + np.random.randn(n)\n",
    "\n",
    "\n",
    "#fit an OLS estimator\n",
    "model = OLS(include_intercept=True)\n",
    "model.fit(X, y)\n",
    "\n",
    "summary = model.summary(X,y)\n",
    "print(summary)\n"
   ]
  },
  {
   "cell_type": "code",
   "execution_count": 10,
   "metadata": {},
   "outputs": [
    {
     "name": "stdout",
     "output_type": "stream",
     "text": [
      "[{'coefficient': 0, 'beta_estimate': np.float64(-0.5476388481520127), 'null_value': np.int64(0), 't_stat': np.float64(-0.49631238458888466), 'p_value': np.float64(0.7067136206909941), 'reject_null': np.False_}, {'coefficient': 1, 'beta_estimate': np.float64(1.1716113141991107), 'null_value': np.int64(1), 't_stat': np.float64(0.17843971390808347), 'p_value': np.float64(0.8875849110555407), 'reject_null': np.False_}, {'coefficient': 2, 'beta_estimate': np.float64(2.9812326171732506), 'null_value': np.int64(0), 't_stat': np.float64(3.2126642410403123), 'p_value': np.float64(0.19210778609763413), 'reject_null': np.False_}]\n",
      "Coefficient 0:\n",
      "  Estimated: -0.5476388481520127\n",
      "  Null value: 0\n",
      "  t-stat: -0.49631238458888466\n",
      "  p-value: 0.7067136206909941\n",
      "  Reject null: False\n",
      "Coefficient 1:\n",
      "  Estimated: 1.1716113141991107\n",
      "  Null value: 1\n",
      "  t-stat: 0.17843971390808347\n",
      "  p-value: 0.8875849110555407\n",
      "  Reject null: False\n",
      "Coefficient 2:\n",
      "  Estimated: 2.9812326171732506\n",
      "  Null value: 0\n",
      "  t-stat: 3.2126642410403123\n",
      "  p-value: 0.19210778609763413\n",
      "  Reject null: False\n"
     ]
    }
   ],
   "source": [
    "#hypothesis testing on the coefficients\n",
    "\n",
    "tester = LinearModelTester(model)\n",
    "H0 = np.array([0, 1, 0])\n",
    "alpha = 0.05\n",
    "\n",
    "results = tester.hypothesis_t_test(X, y, H0, alpha)\n",
    "print(results)\n",
    "for result in results:\n",
    "    print(f\"Coefficient {result['coefficient']}:\")\n",
    "    print(f\"  Estimated: {result['beta_estimate']}\")\n",
    "    print(f\"  Null value: {result['null_value']}\")\n",
    "    print(f\"  t-stat: {result['t_stat']}\")\n",
    "    print(f\"  p-value: {result['p_value']}\")\n",
    "    print(f\"  Reject null: {result['reject_null']}\")\n",
    "\n",
    "\n"
   ]
  }
 ],
 "metadata": {
  "kernelspec": {
   "display_name": "venv",
   "language": "python",
   "name": "python3"
  },
  "language_info": {
   "codemirror_mode": {
    "name": "ipython",
    "version": 3
   },
   "file_extension": ".py",
   "mimetype": "text/x-python",
   "name": "python",
   "nbconvert_exporter": "python",
   "pygments_lexer": "ipython3",
   "version": "3.12.0"
  }
 },
 "nbformat": 4,
 "nbformat_minor": 2
}
