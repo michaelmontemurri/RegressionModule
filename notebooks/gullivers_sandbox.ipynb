{
 "cells": [
  {
   "cell_type": "code",
   "execution_count": 3,
   "metadata": {},
   "outputs": [
    {
     "name": "stdout",
     "output_type": "stream",
     "text": [
      "/home/gulliverhager/Documents/Academia/McGill-Fall24/MATH533/Assignments/A4\n"
     ]
    },
    {
     "name": "stderr",
     "output_type": "stream",
     "text": [
      "/home/gulliverhager/Documents/Academia/McGill-Fall24/MATH533/Assignments/A4/regression_module/venv/lib/python3.12/site-packages/IPython/core/magics/osm.py:417: UserWarning: This is now an optional IPython functionality, setting dhist requires you to install the `pickleshare` library.\n",
      "  self.shell.db['dhist'] = compress_dhist(dhist)[-100:]\n"
     ]
    }
   ],
   "source": [
    "%cd ..\n",
    "from stats_module.models import *\n",
    "from stats_module.loss_estimation import *\n",
    "from stats_module.utils import *\n",
    "import numpy as np"
   ]
  },
  {
   "cell_type": "code",
   "execution_count": null,
   "metadata": {},
   "outputs": [
    {
     "name": "stdout",
     "output_type": "stream",
     "text": [
      "0.6868071785849836\n",
      "6464150641919688.0\n",
      "0.03752102348595089\n"
     ]
    }
   ],
   "source": [
    "np.random.seed(0)\n",
    "n = 1000\n",
    "p = 300\n",
    "X = np.random.normal(10, 1, (n,p))\n",
    "y = X @  np.arange(1,p+1) + np.random.normal(0, 1, n)\n",
    "#generate y linearly dependent on X\n",
    "#y = X @ np.array([1, 2, 3]) + np.random.randn(n)\n",
    "\n",
    "model = OLS(include_intercept=True)\n",
    "model.fit(X, y)\n",
    "\n",
    "print(naive_loss_estimation(model,X,y))\n",
    "print(train_test_loss_estimation(model, X, y, list(range(1,500)), list(range(500,1000)) ))\n",
    "print(loo_loss_estimation(model, X, y))\n",
    "\n",
    "\n"
   ]
  }
 ],
 "metadata": {
  "kernelspec": {
   "display_name": "venv",
   "language": "python",
   "name": "python3"
  },
  "language_info": {
   "codemirror_mode": {
    "name": "ipython",
    "version": 3
   },
   "file_extension": ".py",
   "mimetype": "text/x-python",
   "name": "python",
   "nbconvert_exporter": "python",
   "pygments_lexer": "ipython3",
   "version": "3.12.3"
  }
 },
 "nbformat": 4,
 "nbformat_minor": 2
}
